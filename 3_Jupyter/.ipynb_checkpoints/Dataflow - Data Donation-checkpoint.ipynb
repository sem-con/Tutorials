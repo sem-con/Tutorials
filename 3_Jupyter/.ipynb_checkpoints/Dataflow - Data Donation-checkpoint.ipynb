{
 "cells": [
  {
   "cell_type": "code",
   "execution_count": null,
   "metadata": {},
   "outputs": [],
   "source": [
    "import pandas as pd\n",
    "import requests\n",
    "\n",
    "semcon = \"http://localhost:4000\"\n",
    "key = \"1c473003bc6e7b1d111cf3ab78f7a2fe70aa9f3dbce2dc9fa72bc28dfb1c434d\"\n",
    "secret = \"400aff3d20d09823d3928e2587db15c824b5818449a5b67c423c721f15c54885\"\n",
    "\n",
    "def generate_token(url, client_id, client_secret):\n",
    "    \"\"\"Retrieve OAuth2 bearer token.\"\"\"\n",
    "    auth = (client_id, client_secret)\n",
    "    body = {\"grant_type\": \"client_credentials\"}\n",
    "    r = requests.post(url + \"/oauth/token\", auth=auth, json=body)\n",
    "    return r.json().get('access_token')\n",
    "\n",
    "def get_data(semcon, key, secret):\n",
    "    headers = {\"Authorization\":\"Bearer \" + generate_token(semcon, key, secret), \n",
    "               \"Accept\": \"application/json\"}\n",
    "    r = requests.get(semcon + '/api/data/plain', headers=headers)\n",
    "    return pd.DataFrame(columns=r.json()['data'][0].keys())\n",
    "\n",
    "# Create URL to JSON file\n",
    "auth_token = \"\"\n",
    "headers = {'Authorization': 'Bearer ' + auth_token, 'Accept': 'application/json'}\n",
    "url = \"http://localhost:4000/api/data/plain\"\n",
    "\n",
    "# Load the first sheet of the JSON file into a data frame\n",
    "df = get_data(semcon, key, secret)\n",
    "\n",
    "# View the first ten rows\n",
    "df.head(10)"
   ]
  }
 ],
 "metadata": {
  "kernelspec": {
   "display_name": "Python 3",
   "language": "python",
   "name": "python3"
  },
  "language_info": {
   "codemirror_mode": {
    "name": "ipython",
    "version": 3
   },
   "file_extension": ".py",
   "mimetype": "text/x-python",
   "name": "python",
   "nbconvert_exporter": "python",
   "pygments_lexer": "ipython3",
   "version": "3.7.0"
  }
 },
 "nbformat": 4,
 "nbformat_minor": 2
}
